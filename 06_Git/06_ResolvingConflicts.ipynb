{
 "cells": [
  {
   "cell_type": "code",
   "execution_count": null,
   "metadata": {
    "collapsed": true
   },
   "outputs": [],
   "source": [
    "# When the edits on master and dev are different, quick merge is not available\n",
    "# We can open the both edited file or use\n",
    "$ git status\n",
    "# to see the difference between 2 branches, then edit them manually"
   ]
  },
  {
   "cell_type": "code",
   "execution_count": null,
   "outputs": [],
   "source": [
    "# we can check how the merge is like by using\n",
    "$ git log"
   ],
   "metadata": {
    "collapsed": false,
    "pycharm": {
     "name": "#%%\n"
    }
   }
  },
  {
   "cell_type": "code",
   "execution_count": null,
   "outputs": [],
   "source": [
    "# Delete one branch\n",
    "$ git branch -d <branchname>"
   ],
   "metadata": {
    "collapsed": false,
    "pycharm": {
     "name": "#%%\n"
    }
   }
  },
  {
   "cell_type": "code",
   "execution_count": null,
   "outputs": [],
   "source": [
    "# Forbid Fast forward mode\n",
    "$ git switch -c dev\n",
    "$ git add .\n",
    "$ git commit -m \"test\"\n",
    "\n",
    "$ git switch master\n",
    "$ git merge --no-ff -m \"merge with no-ff\" dev\n"
   ],
   "metadata": {
    "collapsed": false,
    "pycharm": {
     "name": "#%%\n"
    }
   }
  },
  {
   "cell_type": "markdown",
   "source": [
    "![](pics/1640559929636.jpg)"
   ],
   "metadata": {
    "collapsed": false,
    "pycharm": {
     "name": "#%% md\n"
    }
   }
  },
  {
   "cell_type": "code",
   "execution_count": null,
   "outputs": [],
   "source": [
    "# Bug branch: when we have an emergent bug to fix while we haven't done the current work\n",
    "# We can use\n",
    "$ git stash\n",
    "# to store the current work and turn back to it later.\n",
    "\n",
    "# When we fixed a bug on master branch, we can use\n",
    "$ git stash list\n",
    "# to check all the stored work, then\n",
    "$ git stash pop\n",
    "# to restore previous work\n",
    "# You can also use\n",
    "$ git stash apply # Restore but not delete\n",
    "$ git stash drop # delete\n",
    "\n",
    "# If many stashes were stored, use\n",
    "$ git stash apply@{0}\n",
    "# to restore to specific stash\n",
    "\n",
    "# Normally, the bug on master also exists in dev, so when we switch to dev we can use\n",
    "$ git cherry-pick <commit number>\n",
    "# to apply same edits to current branch"
   ],
   "metadata": {
    "collapsed": false,
    "pycharm": {
     "name": "#%%\n"
    }
   }
  },
  {
   "cell_type": "code",
   "execution_count": null,
   "outputs": [],
   "source": [
    "$ git branch -d <branch name>\n",
    "# this will only delete all edits before the branch is merged\n",
    "# If really want to delete, use\n",
    "$ git branch -D <branch name>"
   ],
   "metadata": {
    "collapsed": false,
    "pycharm": {
     "name": "#%%\n"
    }
   }
  }
 ],
 "metadata": {
  "kernelspec": {
   "display_name": "Python 3",
   "language": "python",
   "name": "python3"
  },
  "language_info": {
   "codemirror_mode": {
    "name": "ipython",
    "version": 2
   },
   "file_extension": ".py",
   "mimetype": "text/x-python",
   "name": "python",
   "nbconvert_exporter": "python",
   "pygments_lexer": "ipython2",
   "version": "2.7.6"
  }
 },
 "nbformat": 4,
 "nbformat_minor": 0
}