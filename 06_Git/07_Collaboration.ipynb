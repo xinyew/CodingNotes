{
 "cells": [
  {
   "cell_type": "code",
   "execution_count": null,
   "metadata": {
    "collapsed": true
   },
   "outputs": [],
   "source": [
    "# clone from GitHub will only see the local master branch\n",
    "$ git clone git@github.com:michaelliao/learngit.git\n",
    "# If want to develop on branch dev, you should create the dev branch of remote origin to local using\n",
    "$ git checkout -b dev origin/dev\n",
    "# Then you can edit on dev, and push edits to remote"
   ]
  },
  {
   "cell_type": "code",
   "execution_count": null,
   "outputs": [],
   "source": [
    "# When there are some conflicts, you should pull the remote version to your computer and combine manually\n",
    "$ git push origin dev\n",
    "# failed\n",
    "\n",
    "$ git pull\n",
    "# failed since no connection was established between local dev with origin/dev, you should use\n",
    "$ git branch --set-upstream-to=origin/dev dev\n",
    "$ git pull\n",
    "# done\n",
    "\n",
    "# Manually combine then push"
   ],
   "metadata": {
    "collapsed": false,
    "pycharm": {
     "name": "#%%\n"
    }
   }
  },
  {
   "cell_type": "code",
   "execution_count": null,
   "outputs": [],
   "source": [
    "# When many people work on the same branch, conflicts show up frequently, everybody should pull then combine manually then push\n",
    "# Things can easily become like this\n",
    "$ git log --graph --pretty=oneline --abbrev-commit\n",
    "# show log in graph\n",
    "\n",
    "* d1be385 (HEAD -> master, origin/master) init hello\n",
    "*   e5e69f1 Merge branch 'dev'\n",
    "|\\\n",
    "| *   57c53ab (origin/dev, dev) fix env conflict\n",
    "| |\\\n",
    "| | * 7a5e5dd add env\n",
    "| * | 7bd91f1 add new env\n",
    "| |/\n",
    "* |   12a631b merged bug fix 101\n",
    "|\\ \\\n",
    "| * | 4c805e2 fix bug 101\n",
    "|/ /\n",
    "* |   e1e9c68 merge with no-ff\n",
    "|\\ \\\n",
    "| |/\n",
    "| * f52c633 add merge\n",
    "|/\n",
    "*   cf810e4 conflict fixed"
   ],
   "metadata": {
    "collapsed": false,
    "pycharm": {
     "name": "#%%\n"
    }
   }
  },
  {
   "cell_type": "code",
   "execution_count": null,
   "outputs": [],
   "source": [
    "# use this to organize the branched unsubmitted contents into a line\n",
    "$ git rebase"
   ],
   "metadata": {
    "collapsed": false,
    "pycharm": {
     "name": "#%%\n"
    }
   }
  }
 ],
 "metadata": {
  "kernelspec": {
   "display_name": "Python 3",
   "language": "python",
   "name": "python3"
  },
  "language_info": {
   "codemirror_mode": {
    "name": "ipython",
    "version": 2
   },
   "file_extension": ".py",
   "mimetype": "text/x-python",
   "name": "python",
   "nbconvert_exporter": "python",
   "pygments_lexer": "ipython2",
   "version": "2.7.6"
  }
 },
 "nbformat": 4,
 "nbformat_minor": 0
}