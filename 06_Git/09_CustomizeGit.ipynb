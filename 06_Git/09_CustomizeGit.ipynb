{
 "cells": [
  {
   "cell_type": "code",
   "execution_count": null,
   "metadata": {
    "collapsed": true
   },
   "outputs": [],
   "source": [
    "# This instruction shows how to ignore untracked files\n",
    "\n",
    "$ touch .gitignore\n",
    "$ vim .gitignore\n",
    "\n",
    "'''\n",
    "INSERT\n",
    "\n",
    "# Windows:\n",
    "Thumbs.db\n",
    "ehthumbs.db\n",
    "Desktop.ini\n",
    "\n",
    "# Python:\n",
    "*.py[cod]\n",
    "*.so\n",
    "*.egg\n",
    "*.egg-info\n",
    "dist\n",
    "build\n",
    "\n",
    "# My configurations:\n",
    "db.ini\n",
    "deploy_key_rsa\n",
    "\n",
    "!main.class (Use ! to exclude file names)\n",
    "'''\n",
    "\n",
    "\n",
    "$ git add .gitignore\n",
    "$ git commit -m \"Ignore file added\"\n",
    "\n",
    "# Forcing add file that should be ignored\n",
    "$ git add -f <filename>"
   ]
  },
  {
   "cell_type": "code",
   "execution_count": null,
   "outputs": [],
   "source": [
    "# Add aliases\n",
    "$ git config --global alias.<alias> <command>\n",
    "\n",
    "$ git config --global alias.unstage 'reset HEAD'\n",
    "# Unstage files\n",
    "\n",
    "$ git config --global alias.last 'log -1'\n",
    "# Show latest commit"
   ],
   "metadata": {
    "collapsed": false,
    "pycharm": {
     "name": "#%%\n"
    }
   }
  }
 ],
 "metadata": {
  "kernelspec": {
   "display_name": "Python 3",
   "language": "python",
   "name": "python3"
  },
  "language_info": {
   "codemirror_mode": {
    "name": "ipython",
    "version": 2
   },
   "file_extension": ".py",
   "mimetype": "text/x-python",
   "name": "python",
   "nbconvert_exporter": "python",
   "pygments_lexer": "ipython2",
   "version": "2.7.6"
  }
 },
 "nbformat": 4,
 "nbformat_minor": 0
}