{
 "cells": [
  {
   "cell_type": "code",
   "execution_count": null,
   "metadata": {
    "collapsed": true
   },
   "outputs": [],
   "source": [
    "# Creating SSH Key\n",
    "# If .ssh directory exists in the ~ (root), do nothing, else:\n",
    "$ ssh-keygen -t rsa -C \"youremail@example.com\""
   ]
  },
  {
   "cell_type": "code",
   "execution_count": null,
   "outputs": [],
   "source": [
    "# Login GitHub -> settings -> SSH Keys -> Add SSH Key\n",
    "# Give any title, and paste the content of id_rsa.pub file in the .ssh directory in the Key Text Frame\n",
    "# Click Add Key"
   ],
   "metadata": {
    "collapsed": false,
    "pycharm": {
     "name": "#%%\n"
    }
   }
  },
  {
   "cell_type": "code",
   "execution_count": null,
   "outputs": [],
   "source": [
    "# GitHub -> create new repo -> <reponame>\n",
    "$ git remote add origin git@github.com:<yourGitHubUserName>/<reponame + '.git'>\n",
    "\n",
    "# Push local edits to GitHub\n",
    "# -u is an option to merge local and remote branches\n",
    "$ git push -u origin master\n",
    "\n",
    "# Otherwise just use\n",
    "$ git push origin master\n",
    "\n",
    "# origin = <remote name>\n",
    "# master = <branch name>"
   ],
   "metadata": {
    "collapsed": false,
    "pycharm": {
     "name": "#%%\n"
    }
   }
  }
 ],
 "metadata": {
  "kernelspec": {
   "display_name": "Python 3",
   "language": "python",
   "name": "python3"
  },
  "language_info": {
   "codemirror_mode": {
    "name": "ipython",
    "version": 2
   },
   "file_extension": ".py",
   "mimetype": "text/x-python",
   "name": "python",
   "nbconvert_exporter": "python",
   "pygments_lexer": "ipython2",
   "version": "2.7.6"
  }
 },
 "nbformat": 4,
 "nbformat_minor": 0
}