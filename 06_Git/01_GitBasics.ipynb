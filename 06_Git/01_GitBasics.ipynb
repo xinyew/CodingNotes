{
 "cells": [
  {
   "cell_type": "code",
   "metadata": {
    "collapsed": true,
    "pycharm": {
     "name": "#%%\n"
    }
   },
   "source": [
    "# Initialize empty repo for current directory\n",
    "$ git init\n",
    "# A .git directory will be created to store all information of version controlling."
   ],
   "execution_count": null,
   "outputs": []
  },
  {
   "cell_type": "code",
   "source": [
    "# Create an empty file readme.md and add that to the stage\n",
    "$ touch <filename>\n",
    "$ vim <filename>\n",
    "\n",
    "$ git add <filename>\n",
    "# Added\n",
    "\n",
    "$ git add .\n",
    "$ git add *\n",
    "# Add all files.\n",
    "\n",
    "# Commit and add comments\n",
    "$ git commit -m \"<your comments>\""
   ],
   "metadata": {
    "collapsed": false,
    "pycharm": {
     "name": "#%%\n"
    }
   },
   "execution_count": null,
   "outputs": []
  },
  {
   "cell_type": "code",
   "source": [
    "# Checking status\n",
    "$ git status\n",
    "\n",
    "# Showing changes\n",
    "$ git diff\n",
    "\n",
    "# Checking the editing history\n",
    "$ git log\n",
    "$ git long --pretty=oneline # Simplified version\n",
    "\n",
    "# Go back to last version\n",
    "$ git reset --hard HEAD^\n",
    "\n",
    "# Go back to the version 2 times ago\n",
    "$ git reset --hard HEAD^^ # Add as many ^ as the version before the current one that you want to go back to\n",
    "$ git reset --hard HEAD~1\n",
    "$ git reset --hard HEAD~100 # The 100th previous version\n",
    "\n",
    "# Go back to a specific version\n",
    "# use log to find the index(version number)\n",
    "$ git reset --hard <version number / the first several digits of the version number>\n",
    "\n",
    "# If regret, want to go back to a version that had been reversed. Find the version number and do the same thing as above.\n",
    "# If cannot find it, just use\n",
    "$ git reflog"
   ],
   "metadata": {
    "collapsed": false,
    "pycharm": {
     "name": "#%%\n"
    }
   },
   "execution_count": null,
   "outputs": []
  },
  {
   "cell_type": "code",
   "execution_count": null,
   "outputs": [],
   "source": [
    "# Discard edits in the stage or working zone\n",
    "$ git checkout -- <filename>\n",
    "# If the file has been staged then discard staged file and restore the file to be the same as in the stage\n",
    "# if the file was just in the working zone, the discard all the edits.\n",
    "\n",
    "$ git reset HEAD <filename>\n",
    "# Another way to unstage file and replace with the newest one in the committed repo"
   ],
   "metadata": {
    "collapsed": false,
    "pycharm": {
     "name": "#%%\n"
    }
   }
  },
  {
   "cell_type": "code",
   "execution_count": null,
   "outputs": [],
   "source": [
    "# Delete file in the commited repo\n",
    "$ git rm <filename>"
   ],
   "metadata": {
    "collapsed": false,
    "pycharm": {
     "name": "#%%\n"
    }
   }
  }
 ],
 "metadata": {
  "kernelspec": {
   "display_name": "Python 3",
   "language": "python",
   "name": "python3"
  },
  "language_info": {
   "codemirror_mode": {
    "name": "ipython",
    "version": 2
   },
   "file_extension": ".py",
   "mimetype": "text/x-python",
   "name": "python",
   "nbconvert_exporter": "python",
   "pygments_lexer": "ipython2",
   "version": "2.7.6"
  }
 },
 "nbformat": 4,
 "nbformat_minor": 0
}