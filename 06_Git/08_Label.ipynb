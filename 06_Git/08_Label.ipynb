{
 "cells": [
  {
   "cell_type": "code",
   "execution_count": null,
   "metadata": {
    "collapsed": true
   },
   "outputs": [],
   "source": [
    "# Add tag to the latest commit\n",
    "$ git tag <tag name>\n",
    "\n",
    "# check all tags\n",
    "$ git tag\n",
    "\n",
    "$ git tag <tag name> <commit number>\n",
    "# Add tag to a specific commit\n",
    "\n",
    "# check tag information\n",
    "$ git show <tag name>\n",
    "\n",
    "# You can also create tag with description using -a to indicate tag name, -m to add comment\n",
    "$ git tag -a <tag name> -m <comment> <commitnum>\n",
    "\n",
    "# Delete tag\n",
    "$ git tag -d <tagname>\n",
    "\n",
    "# Push tag commit to remote\n",
    "$ git push origin <tagname>\n",
    "\n",
    "# Push all tags to remoge\n",
    "$ git push origin --tags\n",
    "\n",
    "# To delete tags in remote, delete local one first then\n",
    "$ git push origin :refs/tags/<tagname>"
   ]
  }
 ],
 "metadata": {
  "kernelspec": {
   "display_name": "Python 3",
   "language": "python",
   "name": "python3"
  },
  "language_info": {
   "codemirror_mode": {
    "name": "ipython",
    "version": 2
   },
   "file_extension": ".py",
   "mimetype": "text/x-python",
   "name": "python",
   "nbconvert_exporter": "python",
   "pygments_lexer": "ipython2",
   "version": "2.7.6"
  }
 },
 "nbformat": 4,
 "nbformat_minor": 0
}